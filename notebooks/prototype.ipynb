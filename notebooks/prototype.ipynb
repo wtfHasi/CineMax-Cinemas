{
 "cells": [
  {
   "cell_type": "code",
   "execution_count": 1,
   "id": "3ec415b1-e17d-4113-b27f-1f9de6f22de3",
   "metadata": {},
   "outputs": [
    {
     "data": {
      "application/javascript": [
       "\n",
       "                    window.jupyter_python_executable = '\\r\\r';\n",
       "                    window.jupyter_widget_checks_silent = true;\n",
       "                    window.jupyter_widget_checks_libraries = [{\"python\": \"ipyvuetify\", \"classic\": \"jupyter-vuetify/extension\", \"lab\": \"jupyter-vuetify\"}, {\"python\": \"ipyvue\", \"classic\": \"jupyter-vue/extension\", \"lab\": \"jupyter-vue\"}];\n",
       "                    "
      ],
      "text/plain": [
       "<IPython.core.display.Javascript object>"
      ]
     },
     "metadata": {},
     "output_type": "display_data"
    },
    {
     "data": {
      "text/html": [
       "<div class=\"jupyter-widget-checks-container\">\n",
       "    <script>\n",
       "        (function () {\n",
       "            console.log(\"Checking for jupyter-widgets extensions\")\n",
       "            const inLab = window._JUPYTERLAB !== undefined;\n",
       "            const silent = jupyter_widget_checks_silent;\n",
       "            const containers = document.getElementsByClassName('jupyter-widget-checks-container');\n",
       "            const rootEl = containers[containers.length - 1];\n",
       "            const libraries = window.jupyter_widget_checks_libraries;\n",
       "\n",
       "            function getBaseUrl() {\n",
       "                const labConfigData = document.getElementById(\"jupyter-config-data\");\n",
       "                if (labConfigData) {\n",
       "                    /* lab and Voila */\n",
       "                    return JSON.parse(labConfigData.textContent).baseUrl;\n",
       "                }\n",
       "                let base = document.body.dataset.baseUrl || document.baseURI;\n",
       "                return base;\n",
       "            }\n",
       "\n",
       "            function checkLibrary(extensions, library) {\n",
       "                let installed = false;\n",
       "                let ok = true;\n",
       "                if (inLab) {\n",
       "                    installed = _JUPYTERLAB[library.lab] !== undefined\n",
       "                } else {\n",
       "                    installed = extensions[library.classic] !== undefined;\n",
       "                    let enabled = extensions[library.classic] === true;\n",
       "                }\n",
       "                const div = document.createElement(\"div\")\n",
       "                if (installed) {\n",
       "                    if (!silent) {\n",
       "                        div.innerHTML = `Extension ${library.python} is installed at the server ✅`\n",
       "                        rootEl.appendChild(div)\n",
       "                    }\n",
       "                } else {\n",
       "                    div.innerHTML = `Extension ${library.python} is <b>NOT</b> installed at the server ❌.`\n",
       "                    rootEl.appendChild(div)\n",
       "                    ok = false;\n",
       "                }\n",
       "                return ok;\n",
       "            }\n",
       "\n",
       "            async function check() {\n",
       "                const url = `${getBaseUrl()}api/config/notebook`\n",
       "                const response = (await fetch(url));\n",
       "                const data = await response.json()\n",
       "                const extensions = data[\"load_extensions\"];\n",
       "                var ok = true;\n",
       "                let needsInstall = [];\n",
       "                libraries.forEach((library) => {\n",
       "                    if (!checkLibrary(extensions, library)) {\n",
       "                        ok = false;\n",
       "                        needsInstall.push(library.python)\n",
       "                        console.log(\"Needs install\", library.python)\n",
       "                    }\n",
       "                })\n",
       "                console.log(ok, needsInstall)\n",
       "                if (!ok) {\n",
       "                    const div = document.createElement(\"div\")\n",
       "                    const div2 = document.createElement(\"div\")\n",
       "                    div.innerHTML = `Run <code>${jupyter_python_executable} -m pip install ${needsInstall.join(\" \")}</code>. Refresh the page after installation.`\n",
       "                    div2.innerHTML = `Visit <a href=\"https://solara.dev/documentation/getting_started/troubleshoot\" target=\"_blank\">https://solara/dev/documentation/getting_started/troubleshoot</a> for more information.`\n",
       "                    rootEl.appendChild(div)\n",
       "                    rootEl.appendChild(div2)\n",
       "                }\n",
       "            }\n",
       "            check()\n",
       "        })();\n",
       "    </script>\n",
       "</div>\n"
      ],
      "text/plain": [
       "<IPython.core.display.HTML object>"
      ]
     },
     "metadata": {},
     "output_type": "display_data"
    }
   ],
   "source": [
    "from mesa import Model\n",
    "from mesa.space import MultiGrid\n",
    "from mesa.datacollection import DataCollector\n",
    "from mesa import Agent\n",
    "from mesa.visualization import SolaraViz, make_space_component"
   ]
  },
  {
   "cell_type": "code",
   "execution_count": 2,
   "id": "246825de-d0d8-47ea-a604-9e68cc363754",
   "metadata": {},
   "outputs": [],
   "source": [
    "class UserAgent(Agent):\n",
    "    def __init__(self, model):\n",
    "        super().__init__(model)  # Mandatory initialization\n",
    "        self.role = \"Customer\"\n",
    "\n",
    "    def step(self):\n",
    "        # Example behavior: Move randomly and book tickets\n",
    "        possible_steps = self.model.grid.get_neighborhood(\n",
    "            self.pos, moore=True, include_center=False\n",
    "        )\n",
    "        new_position = self.random.choice(possible_steps)\n",
    "        self.model.grid.move_agent(self, new_position)\n",
    "\n",
    "        # Simulate booking a ticket\n",
    "        cinema = self.random.choice([agent for agent in self.model.agents if isinstance(agent, CinemaAgent)])\n",
    "        if cinema:\n",
    "            seat_type = self.random.choice([\"lower_hall\", \"upper_gallery\", \"vip\"])\n",
    "            self.model.booking_system.book_ticket(self, cinema, seat_type)\n",
    "\n",
    "        # Simulate canceling a ticket (random chance)\n",
    "        if self.random.random() < 0.1:  # 10% chance to cancel\n",
    "            self.model.booking_system.cancel_booking(self, cinema)"
   ]
  },
  {
   "cell_type": "code",
   "execution_count": 3,
   "id": "d86bfafc-f4c1-46cc-b3cb-946a277bd867",
   "metadata": {},
   "outputs": [],
   "source": [
    "class BookingSystemAgent(Agent):\n",
    "    def __init__(self, model):\n",
    "        super().__init__(model)  # Mandatory initialization\n",
    "        self.bookings = []  # List to store all bookings\n",
    "\n",
    "    def book_ticket(self, user, cinema, seat_type):\n",
    "        # Calculate price based on seat type\n",
    "        if seat_type == \"lower_hall\":\n",
    "            price = 10  # Example price for lower hall\n",
    "        elif seat_type == \"upper_gallery\":\n",
    "            price = 12  # Example price for upper gallery\n",
    "        elif seat_type == \"vip\":\n",
    "            price = 15  # Example price for VIP\n",
    "        else:\n",
    "            raise ValueError(\"Invalid seat type\")\n",
    "\n",
    "        # Check seat availability\n",
    "        if cinema.available_seats > 0:\n",
    "            cinema.available_seats -= 1\n",
    "            booking = {\n",
    "                \"user_id\": user.unique_id,\n",
    "                \"cinema_id\": cinema.unique_id,\n",
    "                \"seat_type\": seat_type,\n",
    "                \"price\": price,\n",
    "            }\n",
    "            self.bookings.append(booking)\n",
    "            print(f\"Booking successful! User {user.unique_id} booked a {seat_type} seat at {cinema.location} for £{price}.\")\n",
    "        else:\n",
    "            print(f\"No seats available at {cinema.location}.\")\n",
    "\n",
    "    def cancel_booking(self, user, cinema):\n",
    "        # Find and remove the booking\n",
    "        for booking in self.bookings:\n",
    "            if booking[\"user_id\"] == user.unique_id and booking[\"cinema_id\"] == cinema.unique_id:\n",
    "                self.bookings.remove(booking)\n",
    "                cinema.available_seats += 1\n",
    "                print(f\"Booking canceled for User {user.unique_id} at {cinema.location}.\")\n",
    "                return\n",
    "        print(f\"No booking found for User {user.unique_id} at {cinema.location}.\")"
   ]
  },
  {
   "cell_type": "code",
   "execution_count": 4,
   "id": "1a20dde2-7cfe-4004-9c88-b1d4c19289f0",
   "metadata": {},
   "outputs": [],
   "source": [
    "class CinemaAgent(Agent):\n",
    "    def __init__(self, model, location):\n",
    "        super().__init__(model)  # Mandatory initialization\n",
    "        self.location = location\n",
    "        self.available_seats = 100  # Example: 100 seats per cinema\n",
    "\n",
    "    def book_seat(self, user):\n",
    "        if self.available_seats > 0:\n",
    "            self.available_seats -= 1\n",
    "            print(f\"User {user.unique_id} booked a seat at {self.location}. Seats left: {self.available_seats}\")\n",
    "        else:\n",
    "            print(f\"No seats available at {self.location}.\")"
   ]
  },
  {
   "cell_type": "code",
   "execution_count": 5,
   "id": "7252d589-8f52-420a-b9b7-9b9cdd8b01b4",
   "metadata": {},
   "outputs": [],
   "source": [
    "class Model(Model):\n",
    "    def __init__(self, num_users, num_cinemas, seed=None):\n",
    "        super().__init__(seed=seed)  # Mandatory initialization\n",
    "        self.num_users = num_users\n",
    "        self.num_cinemas = num_cinemas\n",
    "        self.grid = MultiGrid(10, 10, True)  # 10x10 grid\n",
    "        self.agents = self._all_agents  # Access agents via self.agents\n",
    "        # Create Booking System Agent\n",
    "        self.booking_system = BookingSystemAgent(self)\n",
    "        self.grid.place_agent(self.booking_system, (0, 0))  # Place at a fixed position\n",
    "\n",
    "        # Create User Agents\n",
    "        for _ in range(self.num_users):\n",
    "            user = UserAgent(self)\n",
    "            self.grid.place_agent(user, (self.random.randrange(10), self.random.randrange(10)))\n",
    "\n",
    "        # Create Cinema Agents\n",
    "        for _ in range(self.num_cinemas):\n",
    "            cinema = CinemaAgent(self, location=f\"City {self.random.randrange(4)}\")\n",
    "            self.grid.place_agent(cinema, (self.random.randrange(10), self.random.randrange(10)))\n",
    "\n",
    "        # Data collection\n",
    "        self.datacollector = DataCollector(\n",
    "            model_reporters={\"Total_Bookings\": lambda m: sum(1 for agent in m.agents if isinstance(agent, UserAgent))},\n",
    "            agent_reporters={\"Role\": lambda a: a.role if hasattr(a, \"role\") else None}\n",
    "        )\n",
    "\n",
    "    def step(self):\n",
    "        self.agents.shuffle_do(\"step\")  # Shuffle and activate agents\n",
    "        self.datacollector.collect(self)  # Collect data at each step"
   ]
  },
  {
   "cell_type": "code",
   "execution_count": 6,
   "id": "40826310-2441-43f0-8106-ae6e8fcebdf4",
   "metadata": {},
   "outputs": [
    {
     "name": "stderr",
     "output_type": "stream",
     "text": [
      "Component react.component(mesa.visualization.solara_viz.SolaraViz) raised exception TypeError(\"SolaraViz() got multiple values for argument 'components'\")\n",
      "Traceback (most recent call last):\n",
      "  File \"C:\\ProgramData\\anaconda3\\Lib\\site-packages\\reacton\\core.py\", line 1702, in _render\n",
      "    root_element = el.component.f(*el.args, **el.kwargs)\n",
      "                   ^^^^^^^^^^^^^^^^^^^^^^^^^^^^^^^^^^^^^\n",
      "  File \"C:\\ProgramData\\anaconda3\\Lib\\site-packages\\mesa\\mesa_logging.py\", line 132, in wrapper\n",
      "    res = func(*args, **kwargs)\n",
      "          ^^^^^^^^^^^^^^^^^^^^^\n",
      "TypeError: SolaraViz() got multiple values for argument 'components'\n"
     ]
    },
    {
     "data": {
      "application/vnd.jupyter.widget-view+json": {
       "model_id": "00c20df444a4430ba2091de6c172015d",
       "version_major": 2,
       "version_minor": 0
      },
      "text/html": [
       "Cannot show widget. You probably want to rerun the code cell above (<i>Click in the code cell, and press Shift+Enter <kbd>⇧</kbd>+<kbd>↩</kbd></i>)."
      ],
      "text/plain": [
       "Cannot show ipywidgets in text"
      ]
     },
     "metadata": {},
     "output_type": "display_data"
    }
   ],
   "source": [
    "def agent_portrayal(agent):\n",
    "    portrayal = {\"Shape\": \"circle\", \"Filled\": \"true\", \"Layer\": 0, \"r\": 0.5}\n",
    "    if isinstance(agent, UserAgent):\n",
    "        portrayal[\"Color\"] = \"blue\"\n",
    "    elif isinstance(agent, CinemaAgent):\n",
    "        portrayal[\"Color\"] = \"red\"\n",
    "    return portrayal\n",
    "\n",
    "# Create the visualization\n",
    "model_params = {\"num_users\": 10, \"num_cinemas\": 2}\n",
    "components = [make_space_component(agent_portrayal)]\n",
    "SolaraViz(Model, model_params, components=components)"
   ]
  },
  {
   "cell_type": "code",
   "execution_count": 7,
   "id": "397481e4-21e6-42bc-ac76-09f4e79f389b",
   "metadata": {},
   "outputs": [
    {
     "ename": "AttributeError",
     "evalue": "You are trying to set model.agents. In Mesa 3.0 and higher, this attribute is used by Mesa itself, so you cannot use it directly anymore.Please adjust your code to use a different attribute name for custom agent storage.",
     "output_type": "error",
     "traceback": [
      "\u001b[1;31m---------------------------------------------------------------------------\u001b[0m",
      "\u001b[1;31mAttributeError\u001b[0m                            Traceback (most recent call last)",
      "Cell \u001b[1;32mIn[7], line 2\u001b[0m\n\u001b[0;32m      1\u001b[0m \u001b[38;5;28;01mif\u001b[39;00m \u001b[38;5;18m__name__\u001b[39m \u001b[38;5;241m==\u001b[39m \u001b[38;5;124m\"\u001b[39m\u001b[38;5;124m__main__\u001b[39m\u001b[38;5;124m\"\u001b[39m:\n\u001b[1;32m----> 2\u001b[0m     model \u001b[38;5;241m=\u001b[39m Model(num_users\u001b[38;5;241m=\u001b[39m\u001b[38;5;241m10\u001b[39m, num_cinemas\u001b[38;5;241m=\u001b[39m\u001b[38;5;241m2\u001b[39m)\n\u001b[0;32m      3\u001b[0m     \u001b[38;5;28;01mfor\u001b[39;00m _ \u001b[38;5;129;01min\u001b[39;00m \u001b[38;5;28mrange\u001b[39m(\u001b[38;5;241m10\u001b[39m):  \u001b[38;5;66;03m# Run for 10 steps\u001b[39;00m\n\u001b[0;32m      4\u001b[0m         model\u001b[38;5;241m.\u001b[39mstep()\n",
      "Cell \u001b[1;32mIn[5], line 7\u001b[0m, in \u001b[0;36mModel.__init__\u001b[1;34m(self, num_users, num_cinemas, seed)\u001b[0m\n\u001b[0;32m      5\u001b[0m \u001b[38;5;28mself\u001b[39m\u001b[38;5;241m.\u001b[39mnum_cinemas \u001b[38;5;241m=\u001b[39m num_cinemas\n\u001b[0;32m      6\u001b[0m \u001b[38;5;28mself\u001b[39m\u001b[38;5;241m.\u001b[39mgrid \u001b[38;5;241m=\u001b[39m MultiGrid(\u001b[38;5;241m10\u001b[39m, \u001b[38;5;241m10\u001b[39m, \u001b[38;5;28;01mTrue\u001b[39;00m)  \u001b[38;5;66;03m# 10x10 grid\u001b[39;00m\n\u001b[1;32m----> 7\u001b[0m \u001b[38;5;28mself\u001b[39m\u001b[38;5;241m.\u001b[39magents \u001b[38;5;241m=\u001b[39m \u001b[38;5;28mself\u001b[39m\u001b[38;5;241m.\u001b[39m_all_agents  \u001b[38;5;66;03m# Access agents via self.agents\u001b[39;00m\n\u001b[0;32m      8\u001b[0m \u001b[38;5;66;03m# Create Booking System Agent\u001b[39;00m\n\u001b[0;32m      9\u001b[0m \u001b[38;5;28mself\u001b[39m\u001b[38;5;241m.\u001b[39mbooking_system \u001b[38;5;241m=\u001b[39m BookingSystemAgent(\u001b[38;5;28mself\u001b[39m)\n",
      "File \u001b[1;32mC:\\ProgramData\\anaconda3\\Lib\\site-packages\\mesa\\model.py:131\u001b[0m, in \u001b[0;36mModel.agents\u001b[1;34m(self, agents)\u001b[0m\n\u001b[0;32m    129\u001b[0m \u001b[38;5;129m@agents\u001b[39m\u001b[38;5;241m.\u001b[39msetter\n\u001b[0;32m    130\u001b[0m \u001b[38;5;28;01mdef\u001b[39;00m \u001b[38;5;21magents\u001b[39m(\u001b[38;5;28mself\u001b[39m, agents: Any) \u001b[38;5;241m-\u001b[39m\u001b[38;5;241m>\u001b[39m \u001b[38;5;28;01mNone\u001b[39;00m:\n\u001b[1;32m--> 131\u001b[0m     \u001b[38;5;28;01mraise\u001b[39;00m \u001b[38;5;167;01mAttributeError\u001b[39;00m(\n\u001b[0;32m    132\u001b[0m         \u001b[38;5;124m\"\u001b[39m\u001b[38;5;124mYou are trying to set model.agents. In Mesa 3.0 and higher, this attribute is \u001b[39m\u001b[38;5;124m\"\u001b[39m\n\u001b[0;32m    133\u001b[0m         \u001b[38;5;124m\"\u001b[39m\u001b[38;5;124mused by Mesa itself, so you cannot use it directly anymore.\u001b[39m\u001b[38;5;124m\"\u001b[39m\n\u001b[0;32m    134\u001b[0m         \u001b[38;5;124m\"\u001b[39m\u001b[38;5;124mPlease adjust your code to use a different attribute name for custom agent storage.\u001b[39m\u001b[38;5;124m\"\u001b[39m\n\u001b[0;32m    135\u001b[0m     )\n",
      "\u001b[1;31mAttributeError\u001b[0m: You are trying to set model.agents. In Mesa 3.0 and higher, this attribute is used by Mesa itself, so you cannot use it directly anymore.Please adjust your code to use a different attribute name for custom agent storage."
     ]
    }
   ],
   "source": [
    "if __name__ == \"__main__\":\n",
    "    model = Model(num_users=10, num_cinemas=2)\n",
    "    for _ in range(10):  # Run for 10 steps\n",
    "        model.step()\n",
    "\n",
    "    # Print collected data\n",
    "    print(model.datacollector.get_model_vars_dataframe())\n",
    "    print(model.datacollector.get_agent_vars_dataframe())"
   ]
  }
 ],
 "metadata": {
  "kernelspec": {
   "display_name": "Python 3 (ipykernel)",
   "language": "python",
   "name": "python3"
  },
  "language_info": {
   "codemirror_mode": {
    "name": "ipython",
    "version": 3
   },
   "file_extension": ".py",
   "mimetype": "text/x-python",
   "name": "python",
   "nbconvert_exporter": "python",
   "pygments_lexer": "ipython3",
   "version": "3.11.7"
  }
 },
 "nbformat": 4,
 "nbformat_minor": 5
}
