{
 "cells": [
  {
   "cell_type": "code",
   "execution_count": 1,
   "id": "2d6d9c2c-e118-4b8f-a3cd-0657d1157a02",
   "metadata": {},
   "outputs": [],
   "source": [
    "from mesa import Agent, Model"
   ]
  },
  {
   "cell_type": "code",
   "execution_count": 3,
   "id": "5f1fb6c4-1917-407a-844c-75e2dde2dc91",
   "metadata": {},
   "outputs": [],
   "source": [
    "class UserAgent(Agent):\n",
    "    def __init__(self, unique_id, model):\n",
    "        super().__init__(unique_id, model)\n",
    "\n",
    "    def step(self):\n",
    "        print(f\"Agent {self.unique_id} is acting.\")"
   ]
  },
  {
   "cell_type": "code",
   "execution_count": 7,
   "id": "13d1624c-4056-40bc-9036-97647a4276d6",
   "metadata": {},
   "outputs": [],
   "source": [
    "class HCBSModel(Model):\n",
    "    def __init__(self, num_agents):\n",
    "        self.num_agents = num_agents\n",
    "        self.schedule = RandomActivation(self)\n",
    "        for i in range(self.num_agents):\n",
    "            agent = UserAgent(i, self)\n",
    "            self.schedule.add(agent)\n",
    "\n",
    "    def step(self):\n",
    "        self.schedule.step()"
   ]
  },
  {
   "cell_type": "code",
   "execution_count": 9,
   "id": "6ce88c1a-c8f2-4bdd-a18e-da80478db038",
   "metadata": {},
   "outputs": [
    {
     "ename": "NameError",
     "evalue": "name 'RandomActivation' is not defined",
     "output_type": "error",
     "traceback": [
      "\u001b[1;31m---------------------------------------------------------------------------\u001b[0m",
      "\u001b[1;31mNameError\u001b[0m                                 Traceback (most recent call last)",
      "Cell \u001b[1;32mIn[9], line 1\u001b[0m\n\u001b[1;32m----> 1\u001b[0m model \u001b[38;5;241m=\u001b[39m HCBSModel(\u001b[38;5;241m5\u001b[39m)\n\u001b[0;32m      2\u001b[0m \u001b[38;5;28;01mfor\u001b[39;00m i \u001b[38;5;129;01min\u001b[39;00m \u001b[38;5;28mrange\u001b[39m(\u001b[38;5;241m3\u001b[39m):\n\u001b[0;32m      3\u001b[0m     model\u001b[38;5;241m.\u001b[39mstep()\n",
      "Cell \u001b[1;32mIn[7], line 4\u001b[0m, in \u001b[0;36mHCBSModel.__init__\u001b[1;34m(self, num_agents)\u001b[0m\n\u001b[0;32m      2\u001b[0m \u001b[38;5;28;01mdef\u001b[39;00m \u001b[38;5;21m__init__\u001b[39m(\u001b[38;5;28mself\u001b[39m, num_agents):\n\u001b[0;32m      3\u001b[0m     \u001b[38;5;28mself\u001b[39m\u001b[38;5;241m.\u001b[39mnum_agents \u001b[38;5;241m=\u001b[39m num_agents\n\u001b[1;32m----> 4\u001b[0m     \u001b[38;5;28mself\u001b[39m\u001b[38;5;241m.\u001b[39mschedule \u001b[38;5;241m=\u001b[39m RandomActivation(\u001b[38;5;28mself\u001b[39m)\n\u001b[0;32m      5\u001b[0m     \u001b[38;5;28;01mfor\u001b[39;00m i \u001b[38;5;129;01min\u001b[39;00m \u001b[38;5;28mrange\u001b[39m(\u001b[38;5;28mself\u001b[39m\u001b[38;5;241m.\u001b[39mnum_agents):\n\u001b[0;32m      6\u001b[0m         agent \u001b[38;5;241m=\u001b[39m UserAgent(i, \u001b[38;5;28mself\u001b[39m)\n",
      "\u001b[1;31mNameError\u001b[0m: name 'RandomActivation' is not defined"
     ]
    }
   ],
   "source": [
    "model = HCBSModel(5)\n",
    "for i in range(3):\n",
    "    model.step()"
   ]
  },
  {
   "cell_type": "code",
   "execution_count": null,
   "id": "810b4be8-cf00-4bc7-bf66-3b2cb2e2b7ea",
   "metadata": {},
   "outputs": [],
   "source": []
  }
 ],
 "metadata": {
  "kernelspec": {
   "display_name": "Python 3 (ipykernel)",
   "language": "python",
   "name": "python3"
  },
  "language_info": {
   "codemirror_mode": {
    "name": "ipython",
    "version": 3
   },
   "file_extension": ".py",
   "mimetype": "text/x-python",
   "name": "python",
   "nbconvert_exporter": "python",
   "pygments_lexer": "ipython3",
   "version": "3.11.7"
  }
 },
 "nbformat": 4,
 "nbformat_minor": 5
}
